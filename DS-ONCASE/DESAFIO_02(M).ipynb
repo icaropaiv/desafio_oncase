{
  "nbformat": 4,
  "nbformat_minor": 0,
  "metadata": {
    "colab": {
      "provenance": [],
      "toc_visible": true,
      "collapsed_sections": [
        "T_7SwFp6yoJs",
        "tya0dTGOzivb"
      ]
    },
    "kernelspec": {
      "name": "python3",
      "display_name": "Python 3"
    },
    "language_info": {
      "name": "python"
    }
  },
  "cells": [
    {
      "cell_type": "markdown",
      "source": [
        "# DESAFIO ONCASE QUESTÃO 2 MODELAGEM\n",
        "\n",
        "---\n",
        "\n",
        "NOME: ÍCARO JOSIAS FERREIRA PAIVA\n",
        "\n",
        "EMAIL: ijfp@cin.ufpe.br"
      ],
      "metadata": {
        "id": "NJ9909FEdqCg"
      }
    },
    {
      "cell_type": "markdown",
      "source": [
        "2. Selecione um sku (produto) e realize uma previsão da demanda do mesmo nos próximos 4 intervalos de tempo de sua escolha (dia, semana, mês, etc) \n",
        "\n",
        "> a. métricas: rmse, mape;\n",
        "\n",
        "> b. dados: time_series_data.xlsx;"
      ],
      "metadata": {
        "id": "HLYAclmqQoxq"
      }
    },
    {
      "cell_type": "markdown",
      "source": [
        "## 0 IMPORTAÇÃO"
      ],
      "metadata": {
        "id": "vtkmFRJrBKyM"
      }
    },
    {
      "cell_type": "markdown",
      "source": [
        "### 0.1 IMPORTAR BIBLIOTECAS"
      ],
      "metadata": {
        "id": "4gNXH7YxAaP-"
      }
    },
    {
      "cell_type": "code",
      "source": [
        "import pandas                      as pd\n",
        "import numpy                       as np\n",
        "import matplotlib.pyplot           as plt\n",
        "import seaborn                     as sns\n",
        "\n",
        "from statsmodels.tsa.arima_model   import ARIMA\n",
        "from statsmodels.graphics.tsaplots import plot_acf, plot_pacf\n",
        "from sklearn.metrics               import mean_absolute_percentage_error, mean_squared_error"
      ],
      "metadata": {
        "id": "QL_CzYatRi3x"
      },
      "execution_count": 1,
      "outputs": []
    },
    {
      "cell_type": "markdown",
      "source": [
        "### 0.2 IMPORTAR CONJUNTO DE DADOS"
      ],
      "metadata": {
        "id": "wQCu9A9OBPmv"
      }
    },
    {
      "cell_type": "code",
      "source": [
        "df_raw = pd.read_excel(\"/content/drive/MyDrive/DESAFIO/ONCASE/time_series_data.xlsx\")"
      ],
      "metadata": {
        "id": "qEN36BdhQojw"
      },
      "execution_count": 2,
      "outputs": []
    },
    {
      "cell_type": "code",
      "execution_count": 3,
      "metadata": {
        "colab": {
          "base_uri": "https://localhost:8080/",
          "height": 270
        },
        "id": "TYoBsVCQP5jS",
        "outputId": "eab41b83-2098-4bdf-e4b5-828dca8beaa4"
      },
      "outputs": [
        {
          "output_type": "execute_result",
          "data": {
            "text/plain": [
              "  produto_descricao  produto_quantidade produto_unidade_comercial  \\\n",
              "0                A0               23568                        UN   \n",
              "1                A0               25082                        UN   \n",
              "2                A0               25430                        UN   \n",
              "3                A0               25463                        UN   \n",
              "4                A0               25800                        UN   \n",
              "\n",
              "   produto_valor_unitario_comercializacao  nota_data_emissao  \n",
              "0                                   14.13           20210420  \n",
              "1                                   14.13           20210420  \n",
              "2                                   14.13           20210922  \n",
              "3                                   12.84           20210209  \n",
              "4                                   12.84           20210209  "
            ],
            "text/html": [
              "\n",
              "  <div id=\"df-f352c339-8223-4930-bcf6-d231b19b62d8\">\n",
              "    <div class=\"colab-df-container\">\n",
              "      <div>\n",
              "<style scoped>\n",
              "    .dataframe tbody tr th:only-of-type {\n",
              "        vertical-align: middle;\n",
              "    }\n",
              "\n",
              "    .dataframe tbody tr th {\n",
              "        vertical-align: top;\n",
              "    }\n",
              "\n",
              "    .dataframe thead th {\n",
              "        text-align: right;\n",
              "    }\n",
              "</style>\n",
              "<table border=\"1\" class=\"dataframe\">\n",
              "  <thead>\n",
              "    <tr style=\"text-align: right;\">\n",
              "      <th></th>\n",
              "      <th>produto_descricao</th>\n",
              "      <th>produto_quantidade</th>\n",
              "      <th>produto_unidade_comercial</th>\n",
              "      <th>produto_valor_unitario_comercializacao</th>\n",
              "      <th>nota_data_emissao</th>\n",
              "    </tr>\n",
              "  </thead>\n",
              "  <tbody>\n",
              "    <tr>\n",
              "      <th>0</th>\n",
              "      <td>A0</td>\n",
              "      <td>23568</td>\n",
              "      <td>UN</td>\n",
              "      <td>14.13</td>\n",
              "      <td>20210420</td>\n",
              "    </tr>\n",
              "    <tr>\n",
              "      <th>1</th>\n",
              "      <td>A0</td>\n",
              "      <td>25082</td>\n",
              "      <td>UN</td>\n",
              "      <td>14.13</td>\n",
              "      <td>20210420</td>\n",
              "    </tr>\n",
              "    <tr>\n",
              "      <th>2</th>\n",
              "      <td>A0</td>\n",
              "      <td>25430</td>\n",
              "      <td>UN</td>\n",
              "      <td>14.13</td>\n",
              "      <td>20210922</td>\n",
              "    </tr>\n",
              "    <tr>\n",
              "      <th>3</th>\n",
              "      <td>A0</td>\n",
              "      <td>25463</td>\n",
              "      <td>UN</td>\n",
              "      <td>12.84</td>\n",
              "      <td>20210209</td>\n",
              "    </tr>\n",
              "    <tr>\n",
              "      <th>4</th>\n",
              "      <td>A0</td>\n",
              "      <td>25800</td>\n",
              "      <td>UN</td>\n",
              "      <td>12.84</td>\n",
              "      <td>20210209</td>\n",
              "    </tr>\n",
              "  </tbody>\n",
              "</table>\n",
              "</div>\n",
              "      <button class=\"colab-df-convert\" onclick=\"convertToInteractive('df-f352c339-8223-4930-bcf6-d231b19b62d8')\"\n",
              "              title=\"Convert this dataframe to an interactive table.\"\n",
              "              style=\"display:none;\">\n",
              "        \n",
              "  <svg xmlns=\"http://www.w3.org/2000/svg\" height=\"24px\"viewBox=\"0 0 24 24\"\n",
              "       width=\"24px\">\n",
              "    <path d=\"M0 0h24v24H0V0z\" fill=\"none\"/>\n",
              "    <path d=\"M18.56 5.44l.94 2.06.94-2.06 2.06-.94-2.06-.94-.94-2.06-.94 2.06-2.06.94zm-11 1L8.5 8.5l.94-2.06 2.06-.94-2.06-.94L8.5 2.5l-.94 2.06-2.06.94zm10 10l.94 2.06.94-2.06 2.06-.94-2.06-.94-.94-2.06-.94 2.06-2.06.94z\"/><path d=\"M17.41 7.96l-1.37-1.37c-.4-.4-.92-.59-1.43-.59-.52 0-1.04.2-1.43.59L10.3 9.45l-7.72 7.72c-.78.78-.78 2.05 0 2.83L4 21.41c.39.39.9.59 1.41.59.51 0 1.02-.2 1.41-.59l7.78-7.78 2.81-2.81c.8-.78.8-2.07 0-2.86zM5.41 20L4 18.59l7.72-7.72 1.47 1.35L5.41 20z\"/>\n",
              "  </svg>\n",
              "      </button>\n",
              "      \n",
              "  <style>\n",
              "    .colab-df-container {\n",
              "      display:flex;\n",
              "      flex-wrap:wrap;\n",
              "      gap: 12px;\n",
              "    }\n",
              "\n",
              "    .colab-df-convert {\n",
              "      background-color: #E8F0FE;\n",
              "      border: none;\n",
              "      border-radius: 50%;\n",
              "      cursor: pointer;\n",
              "      display: none;\n",
              "      fill: #1967D2;\n",
              "      height: 32px;\n",
              "      padding: 0 0 0 0;\n",
              "      width: 32px;\n",
              "    }\n",
              "\n",
              "    .colab-df-convert:hover {\n",
              "      background-color: #E2EBFA;\n",
              "      box-shadow: 0px 1px 2px rgba(60, 64, 67, 0.3), 0px 1px 3px 1px rgba(60, 64, 67, 0.15);\n",
              "      fill: #174EA6;\n",
              "    }\n",
              "\n",
              "    [theme=dark] .colab-df-convert {\n",
              "      background-color: #3B4455;\n",
              "      fill: #D2E3FC;\n",
              "    }\n",
              "\n",
              "    [theme=dark] .colab-df-convert:hover {\n",
              "      background-color: #434B5C;\n",
              "      box-shadow: 0px 1px 3px 1px rgba(0, 0, 0, 0.15);\n",
              "      filter: drop-shadow(0px 1px 2px rgba(0, 0, 0, 0.3));\n",
              "      fill: #FFFFFF;\n",
              "    }\n",
              "  </style>\n",
              "\n",
              "      <script>\n",
              "        const buttonEl =\n",
              "          document.querySelector('#df-f352c339-8223-4930-bcf6-d231b19b62d8 button.colab-df-convert');\n",
              "        buttonEl.style.display =\n",
              "          google.colab.kernel.accessAllowed ? 'block' : 'none';\n",
              "\n",
              "        async function convertToInteractive(key) {\n",
              "          const element = document.querySelector('#df-f352c339-8223-4930-bcf6-d231b19b62d8');\n",
              "          const dataTable =\n",
              "            await google.colab.kernel.invokeFunction('convertToInteractive',\n",
              "                                                     [key], {});\n",
              "          if (!dataTable) return;\n",
              "\n",
              "          const docLinkHtml = 'Like what you see? Visit the ' +\n",
              "            '<a target=\"_blank\" href=https://colab.research.google.com/notebooks/data_table.ipynb>data table notebook</a>'\n",
              "            + ' to learn more about interactive tables.';\n",
              "          element.innerHTML = '';\n",
              "          dataTable['output_type'] = 'display_data';\n",
              "          await google.colab.output.renderOutput(dataTable, element);\n",
              "          const docLink = document.createElement('div');\n",
              "          docLink.innerHTML = docLinkHtml;\n",
              "          element.appendChild(docLink);\n",
              "        }\n",
              "      </script>\n",
              "    </div>\n",
              "  </div>\n",
              "  "
            ]
          },
          "metadata": {},
          "execution_count": 3
        }
      ],
      "source": [
        "df_raw.head()"
      ]
    },
    {
      "cell_type": "markdown",
      "source": [
        "## 1 EXPLORAÇÃO DOS DADOS"
      ],
      "metadata": {
        "id": "Hyl9z421BYm2"
      }
    },
    {
      "cell_type": "markdown",
      "source": [
        "### 1.1 DESCRIÇÃO DOS DADOS"
      ],
      "metadata": {
        "id": "T_7SwFp6yoJs"
      }
    },
    {
      "cell_type": "code",
      "source": [
        "print('Número de amostras: {}'.format(df_raw.shape[0]))\n",
        "print('Número de varaivéis: {}'.format(df_raw.shape[1]))"
      ],
      "metadata": {
        "colab": {
          "base_uri": "https://localhost:8080/"
        },
        "id": "AULUGf2UCepA",
        "outputId": "4a19a7c9-eac8-43bc-fae9-fb0820a6abbd"
      },
      "execution_count": 4,
      "outputs": [
        {
          "output_type": "stream",
          "name": "stdout",
          "text": [
            "Número de amostras: 4460\n",
            "Número de varaivéis: 5\n"
          ]
        }
      ]
    },
    {
      "cell_type": "code",
      "source": [
        "df_raw.describe()"
      ],
      "metadata": {
        "colab": {
          "base_uri": "https://localhost:8080/",
          "height": 300
        },
        "id": "NAoNkofHSJRV",
        "outputId": "d5cb87af-db1f-422b-b8b5-72c0417d91ea"
      },
      "execution_count": 5,
      "outputs": [
        {
          "output_type": "execute_result",
          "data": {
            "text/plain": [
              "       produto_quantidade  produto_valor_unitario_comercializacao  \\\n",
              "count         4460.000000                             4460.000000   \n",
              "mean           424.202242                               20.508176   \n",
              "std           2036.972760                               44.426198   \n",
              "min              0.000000                                0.620000   \n",
              "25%             45.000000                                8.380000   \n",
              "50%             72.000000                               11.420000   \n",
              "75%            183.000000                               27.200000   \n",
              "max          42000.000000                             1812.390400   \n",
              "\n",
              "       nota_data_emissao  \n",
              "count       4.460000e+03  \n",
              "mean        2.020881e+07  \n",
              "std         3.670650e+03  \n",
              "min         2.020100e+07  \n",
              "25%         2.021021e+07  \n",
              "50%         2.021043e+07  \n",
              "75%         2.021072e+07  \n",
              "max         2.021093e+07  "
            ],
            "text/html": [
              "\n",
              "  <div id=\"df-64524a47-57d5-425f-81a2-ba92a8908f80\">\n",
              "    <div class=\"colab-df-container\">\n",
              "      <div>\n",
              "<style scoped>\n",
              "    .dataframe tbody tr th:only-of-type {\n",
              "        vertical-align: middle;\n",
              "    }\n",
              "\n",
              "    .dataframe tbody tr th {\n",
              "        vertical-align: top;\n",
              "    }\n",
              "\n",
              "    .dataframe thead th {\n",
              "        text-align: right;\n",
              "    }\n",
              "</style>\n",
              "<table border=\"1\" class=\"dataframe\">\n",
              "  <thead>\n",
              "    <tr style=\"text-align: right;\">\n",
              "      <th></th>\n",
              "      <th>produto_quantidade</th>\n",
              "      <th>produto_valor_unitario_comercializacao</th>\n",
              "      <th>nota_data_emissao</th>\n",
              "    </tr>\n",
              "  </thead>\n",
              "  <tbody>\n",
              "    <tr>\n",
              "      <th>count</th>\n",
              "      <td>4460.000000</td>\n",
              "      <td>4460.000000</td>\n",
              "      <td>4.460000e+03</td>\n",
              "    </tr>\n",
              "    <tr>\n",
              "      <th>mean</th>\n",
              "      <td>424.202242</td>\n",
              "      <td>20.508176</td>\n",
              "      <td>2.020881e+07</td>\n",
              "    </tr>\n",
              "    <tr>\n",
              "      <th>std</th>\n",
              "      <td>2036.972760</td>\n",
              "      <td>44.426198</td>\n",
              "      <td>3.670650e+03</td>\n",
              "    </tr>\n",
              "    <tr>\n",
              "      <th>min</th>\n",
              "      <td>0.000000</td>\n",
              "      <td>0.620000</td>\n",
              "      <td>2.020100e+07</td>\n",
              "    </tr>\n",
              "    <tr>\n",
              "      <th>25%</th>\n",
              "      <td>45.000000</td>\n",
              "      <td>8.380000</td>\n",
              "      <td>2.021021e+07</td>\n",
              "    </tr>\n",
              "    <tr>\n",
              "      <th>50%</th>\n",
              "      <td>72.000000</td>\n",
              "      <td>11.420000</td>\n",
              "      <td>2.021043e+07</td>\n",
              "    </tr>\n",
              "    <tr>\n",
              "      <th>75%</th>\n",
              "      <td>183.000000</td>\n",
              "      <td>27.200000</td>\n",
              "      <td>2.021072e+07</td>\n",
              "    </tr>\n",
              "    <tr>\n",
              "      <th>max</th>\n",
              "      <td>42000.000000</td>\n",
              "      <td>1812.390400</td>\n",
              "      <td>2.021093e+07</td>\n",
              "    </tr>\n",
              "  </tbody>\n",
              "</table>\n",
              "</div>\n",
              "      <button class=\"colab-df-convert\" onclick=\"convertToInteractive('df-64524a47-57d5-425f-81a2-ba92a8908f80')\"\n",
              "              title=\"Convert this dataframe to an interactive table.\"\n",
              "              style=\"display:none;\">\n",
              "        \n",
              "  <svg xmlns=\"http://www.w3.org/2000/svg\" height=\"24px\"viewBox=\"0 0 24 24\"\n",
              "       width=\"24px\">\n",
              "    <path d=\"M0 0h24v24H0V0z\" fill=\"none\"/>\n",
              "    <path d=\"M18.56 5.44l.94 2.06.94-2.06 2.06-.94-2.06-.94-.94-2.06-.94 2.06-2.06.94zm-11 1L8.5 8.5l.94-2.06 2.06-.94-2.06-.94L8.5 2.5l-.94 2.06-2.06.94zm10 10l.94 2.06.94-2.06 2.06-.94-2.06-.94-.94-2.06-.94 2.06-2.06.94z\"/><path d=\"M17.41 7.96l-1.37-1.37c-.4-.4-.92-.59-1.43-.59-.52 0-1.04.2-1.43.59L10.3 9.45l-7.72 7.72c-.78.78-.78 2.05 0 2.83L4 21.41c.39.39.9.59 1.41.59.51 0 1.02-.2 1.41-.59l7.78-7.78 2.81-2.81c.8-.78.8-2.07 0-2.86zM5.41 20L4 18.59l7.72-7.72 1.47 1.35L5.41 20z\"/>\n",
              "  </svg>\n",
              "      </button>\n",
              "      \n",
              "  <style>\n",
              "    .colab-df-container {\n",
              "      display:flex;\n",
              "      flex-wrap:wrap;\n",
              "      gap: 12px;\n",
              "    }\n",
              "\n",
              "    .colab-df-convert {\n",
              "      background-color: #E8F0FE;\n",
              "      border: none;\n",
              "      border-radius: 50%;\n",
              "      cursor: pointer;\n",
              "      display: none;\n",
              "      fill: #1967D2;\n",
              "      height: 32px;\n",
              "      padding: 0 0 0 0;\n",
              "      width: 32px;\n",
              "    }\n",
              "\n",
              "    .colab-df-convert:hover {\n",
              "      background-color: #E2EBFA;\n",
              "      box-shadow: 0px 1px 2px rgba(60, 64, 67, 0.3), 0px 1px 3px 1px rgba(60, 64, 67, 0.15);\n",
              "      fill: #174EA6;\n",
              "    }\n",
              "\n",
              "    [theme=dark] .colab-df-convert {\n",
              "      background-color: #3B4455;\n",
              "      fill: #D2E3FC;\n",
              "    }\n",
              "\n",
              "    [theme=dark] .colab-df-convert:hover {\n",
              "      background-color: #434B5C;\n",
              "      box-shadow: 0px 1px 3px 1px rgba(0, 0, 0, 0.15);\n",
              "      filter: drop-shadow(0px 1px 2px rgba(0, 0, 0, 0.3));\n",
              "      fill: #FFFFFF;\n",
              "    }\n",
              "  </style>\n",
              "\n",
              "      <script>\n",
              "        const buttonEl =\n",
              "          document.querySelector('#df-64524a47-57d5-425f-81a2-ba92a8908f80 button.colab-df-convert');\n",
              "        buttonEl.style.display =\n",
              "          google.colab.kernel.accessAllowed ? 'block' : 'none';\n",
              "\n",
              "        async function convertToInteractive(key) {\n",
              "          const element = document.querySelector('#df-64524a47-57d5-425f-81a2-ba92a8908f80');\n",
              "          const dataTable =\n",
              "            await google.colab.kernel.invokeFunction('convertToInteractive',\n",
              "                                                     [key], {});\n",
              "          if (!dataTable) return;\n",
              "\n",
              "          const docLinkHtml = 'Like what you see? Visit the ' +\n",
              "            '<a target=\"_blank\" href=https://colab.research.google.com/notebooks/data_table.ipynb>data table notebook</a>'\n",
              "            + ' to learn more about interactive tables.';\n",
              "          element.innerHTML = '';\n",
              "          dataTable['output_type'] = 'display_data';\n",
              "          await google.colab.output.renderOutput(dataTable, element);\n",
              "          const docLink = document.createElement('div');\n",
              "          docLink.innerHTML = docLinkHtml;\n",
              "          element.appendChild(docLink);\n",
              "        }\n",
              "      </script>\n",
              "    </div>\n",
              "  </div>\n",
              "  "
            ]
          },
          "metadata": {},
          "execution_count": 5
        }
      ]
    },
    {
      "cell_type": "code",
      "source": [
        "df_raw.info()"
      ],
      "metadata": {
        "colab": {
          "base_uri": "https://localhost:8080/"
        },
        "id": "NHCdBHITSNKB",
        "outputId": "cdf5b9f2-e743-439a-ae84-3ddd0821a5de"
      },
      "execution_count": 6,
      "outputs": [
        {
          "output_type": "stream",
          "name": "stdout",
          "text": [
            "<class 'pandas.core.frame.DataFrame'>\n",
            "RangeIndex: 4460 entries, 0 to 4459\n",
            "Data columns (total 5 columns):\n",
            " #   Column                                  Non-Null Count  Dtype  \n",
            "---  ------                                  --------------  -----  \n",
            " 0   produto_descricao                       4460 non-null   object \n",
            " 1   produto_quantidade                      4460 non-null   int64  \n",
            " 2   produto_unidade_comercial               4460 non-null   object \n",
            " 3   produto_valor_unitario_comercializacao  4460 non-null   float64\n",
            " 4   nota_data_emissao                       4460 non-null   int64  \n",
            "dtypes: float64(1), int64(2), object(2)\n",
            "memory usage: 174.3+ KB\n"
          ]
        }
      ]
    },
    {
      "cell_type": "markdown",
      "source": [
        "Ajustar indice do dataframe"
      ],
      "metadata": {
        "id": "iyb57r_VWNa5"
      }
    },
    {
      "cell_type": "code",
      "source": [
        "#transforma de variável 'nota_data_emissao' de Int para Datetime\n",
        "df_raw['nota_data_emissao'] = pd.to_datetime(df_raw['nota_data_emissao'], format='%Y%m%d')\n",
        "\n",
        "# Ordenar o datagframe em ordem cronológica\n",
        "df_raw=df_raw.sort_values(by='nota_data_emissao')\n",
        "\n",
        "# Tornar variavel 'nota_data_emissao' em indice do dataframe\n",
        "df_raw = df_raw.set_index('nota_data_emissao')"
      ],
      "metadata": {
        "id": "U6cKBwoeT-za"
      },
      "execution_count": 7,
      "outputs": []
    },
    {
      "cell_type": "code",
      "source": [
        "df_raw.head()"
      ],
      "metadata": {
        "colab": {
          "base_uri": "https://localhost:8080/",
          "height": 302
        },
        "id": "W0fCPudUyyXl",
        "outputId": "9744a3bc-5c9b-42b0-d2f8-c7c9eb10d3e6"
      },
      "execution_count": 8,
      "outputs": [
        {
          "output_type": "execute_result",
          "data": {
            "text/plain": [
              "                  produto_descricao  produto_quantidade  \\\n",
              "nota_data_emissao                                         \n",
              "2020-10-01                       A9                   5   \n",
              "2020-10-01                       B0                 120   \n",
              "2020-10-01                       B3                  24   \n",
              "2020-10-02                       A8                   1   \n",
              "2020-10-02                       B4                   7   \n",
              "\n",
              "                  produto_unidade_comercial  \\\n",
              "nota_data_emissao                             \n",
              "2020-10-01                               UN   \n",
              "2020-10-01                               UN   \n",
              "2020-10-01                               UN   \n",
              "2020-10-02                               UN   \n",
              "2020-10-02                               UN   \n",
              "\n",
              "                   produto_valor_unitario_comercializacao  \n",
              "nota_data_emissao                                          \n",
              "2020-10-01                                         134.11  \n",
              "2020-10-01                                          29.50  \n",
              "2020-10-01                                           3.19  \n",
              "2020-10-02                                           1.90  \n",
              "2020-10-02                                           1.74  "
            ],
            "text/html": [
              "\n",
              "  <div id=\"df-a72b2269-0656-4455-9e26-a2ab73c4fc4b\">\n",
              "    <div class=\"colab-df-container\">\n",
              "      <div>\n",
              "<style scoped>\n",
              "    .dataframe tbody tr th:only-of-type {\n",
              "        vertical-align: middle;\n",
              "    }\n",
              "\n",
              "    .dataframe tbody tr th {\n",
              "        vertical-align: top;\n",
              "    }\n",
              "\n",
              "    .dataframe thead th {\n",
              "        text-align: right;\n",
              "    }\n",
              "</style>\n",
              "<table border=\"1\" class=\"dataframe\">\n",
              "  <thead>\n",
              "    <tr style=\"text-align: right;\">\n",
              "      <th></th>\n",
              "      <th>produto_descricao</th>\n",
              "      <th>produto_quantidade</th>\n",
              "      <th>produto_unidade_comercial</th>\n",
              "      <th>produto_valor_unitario_comercializacao</th>\n",
              "    </tr>\n",
              "    <tr>\n",
              "      <th>nota_data_emissao</th>\n",
              "      <th></th>\n",
              "      <th></th>\n",
              "      <th></th>\n",
              "      <th></th>\n",
              "    </tr>\n",
              "  </thead>\n",
              "  <tbody>\n",
              "    <tr>\n",
              "      <th>2020-10-01</th>\n",
              "      <td>A9</td>\n",
              "      <td>5</td>\n",
              "      <td>UN</td>\n",
              "      <td>134.11</td>\n",
              "    </tr>\n",
              "    <tr>\n",
              "      <th>2020-10-01</th>\n",
              "      <td>B0</td>\n",
              "      <td>120</td>\n",
              "      <td>UN</td>\n",
              "      <td>29.50</td>\n",
              "    </tr>\n",
              "    <tr>\n",
              "      <th>2020-10-01</th>\n",
              "      <td>B3</td>\n",
              "      <td>24</td>\n",
              "      <td>UN</td>\n",
              "      <td>3.19</td>\n",
              "    </tr>\n",
              "    <tr>\n",
              "      <th>2020-10-02</th>\n",
              "      <td>A8</td>\n",
              "      <td>1</td>\n",
              "      <td>UN</td>\n",
              "      <td>1.90</td>\n",
              "    </tr>\n",
              "    <tr>\n",
              "      <th>2020-10-02</th>\n",
              "      <td>B4</td>\n",
              "      <td>7</td>\n",
              "      <td>UN</td>\n",
              "      <td>1.74</td>\n",
              "    </tr>\n",
              "  </tbody>\n",
              "</table>\n",
              "</div>\n",
              "      <button class=\"colab-df-convert\" onclick=\"convertToInteractive('df-a72b2269-0656-4455-9e26-a2ab73c4fc4b')\"\n",
              "              title=\"Convert this dataframe to an interactive table.\"\n",
              "              style=\"display:none;\">\n",
              "        \n",
              "  <svg xmlns=\"http://www.w3.org/2000/svg\" height=\"24px\"viewBox=\"0 0 24 24\"\n",
              "       width=\"24px\">\n",
              "    <path d=\"M0 0h24v24H0V0z\" fill=\"none\"/>\n",
              "    <path d=\"M18.56 5.44l.94 2.06.94-2.06 2.06-.94-2.06-.94-.94-2.06-.94 2.06-2.06.94zm-11 1L8.5 8.5l.94-2.06 2.06-.94-2.06-.94L8.5 2.5l-.94 2.06-2.06.94zm10 10l.94 2.06.94-2.06 2.06-.94-2.06-.94-.94-2.06-.94 2.06-2.06.94z\"/><path d=\"M17.41 7.96l-1.37-1.37c-.4-.4-.92-.59-1.43-.59-.52 0-1.04.2-1.43.59L10.3 9.45l-7.72 7.72c-.78.78-.78 2.05 0 2.83L4 21.41c.39.39.9.59 1.41.59.51 0 1.02-.2 1.41-.59l7.78-7.78 2.81-2.81c.8-.78.8-2.07 0-2.86zM5.41 20L4 18.59l7.72-7.72 1.47 1.35L5.41 20z\"/>\n",
              "  </svg>\n",
              "      </button>\n",
              "      \n",
              "  <style>\n",
              "    .colab-df-container {\n",
              "      display:flex;\n",
              "      flex-wrap:wrap;\n",
              "      gap: 12px;\n",
              "    }\n",
              "\n",
              "    .colab-df-convert {\n",
              "      background-color: #E8F0FE;\n",
              "      border: none;\n",
              "      border-radius: 50%;\n",
              "      cursor: pointer;\n",
              "      display: none;\n",
              "      fill: #1967D2;\n",
              "      height: 32px;\n",
              "      padding: 0 0 0 0;\n",
              "      width: 32px;\n",
              "    }\n",
              "\n",
              "    .colab-df-convert:hover {\n",
              "      background-color: #E2EBFA;\n",
              "      box-shadow: 0px 1px 2px rgba(60, 64, 67, 0.3), 0px 1px 3px 1px rgba(60, 64, 67, 0.15);\n",
              "      fill: #174EA6;\n",
              "    }\n",
              "\n",
              "    [theme=dark] .colab-df-convert {\n",
              "      background-color: #3B4455;\n",
              "      fill: #D2E3FC;\n",
              "    }\n",
              "\n",
              "    [theme=dark] .colab-df-convert:hover {\n",
              "      background-color: #434B5C;\n",
              "      box-shadow: 0px 1px 3px 1px rgba(0, 0, 0, 0.15);\n",
              "      filter: drop-shadow(0px 1px 2px rgba(0, 0, 0, 0.3));\n",
              "      fill: #FFFFFF;\n",
              "    }\n",
              "  </style>\n",
              "\n",
              "      <script>\n",
              "        const buttonEl =\n",
              "          document.querySelector('#df-a72b2269-0656-4455-9e26-a2ab73c4fc4b button.colab-df-convert');\n",
              "        buttonEl.style.display =\n",
              "          google.colab.kernel.accessAllowed ? 'block' : 'none';\n",
              "\n",
              "        async function convertToInteractive(key) {\n",
              "          const element = document.querySelector('#df-a72b2269-0656-4455-9e26-a2ab73c4fc4b');\n",
              "          const dataTable =\n",
              "            await google.colab.kernel.invokeFunction('convertToInteractive',\n",
              "                                                     [key], {});\n",
              "          if (!dataTable) return;\n",
              "\n",
              "          const docLinkHtml = 'Like what you see? Visit the ' +\n",
              "            '<a target=\"_blank\" href=https://colab.research.google.com/notebooks/data_table.ipynb>data table notebook</a>'\n",
              "            + ' to learn more about interactive tables.';\n",
              "          element.innerHTML = '';\n",
              "          dataTable['output_type'] = 'display_data';\n",
              "          await google.colab.output.renderOutput(dataTable, element);\n",
              "          const docLink = document.createElement('div');\n",
              "          docLink.innerHTML = docLinkHtml;\n",
              "          element.appendChild(docLink);\n",
              "        }\n",
              "      </script>\n",
              "    </div>\n",
              "  </div>\n",
              "  "
            ]
          },
          "metadata": {},
          "execution_count": 8
        }
      ]
    },
    {
      "cell_type": "code",
      "source": [
        "sns.countplot(data=df_raw, x='produto_unidade_comercial');"
      ],
      "metadata": {
        "colab": {
          "base_uri": "https://localhost:8080/",
          "height": 280
        },
        "id": "owhTRXb9TFkk",
        "outputId": "c5424700-48cd-4719-ad3f-81b8cb3b9cfa"
      },
      "execution_count": 9,
      "outputs": [
        {
          "output_type": "display_data",
          "data": {
            "text/plain": [
              "<Figure size 432x288 with 1 Axes>"
            ],
            "image/png": "[encoded data removed]"
          },
          "metadata": {
            "needs_background": "light"
          }
        }
      ]
    },
    {
      "cell_type": "markdown",
      "source": [
        "Temos a unidade de medida UN o mais usado."
      ],
      "metadata": {
        "id": "7oLAUq6p2Wbf"
      }
    },
    {
      "cell_type": "markdown",
      "source": [
        "### 1.2 AVALIAÇÃO DAS VARIÁVEIS"
      ],
      "metadata": {
        "id": "tya0dTGOzivb"
      }
    },
    {
      "cell_type": "code",
      "source": [
        "# Lista crescente das frequencias das demandas dos produtos\n",
        "\n",
        "count_produtos = df_raw['produto_descricao'].value_counts()\n",
        "main_count_produtos = []\n",
        "for i in range(len(count_produtos)):\n",
        "    if count_produtos[i] > 500:\n",
        "        main_count_produtos.append(count_produtos.index[i])"
      ],
      "metadata": {
        "id": "KDwlZSqzS5Zv"
      },
      "execution_count": 10,
      "outputs": []
    },
    {
      "cell_type": "code",
      "source": [
        "print('Os produtos %s aparecem em mais de 500 demandas ao lono do tempo' %main_count_produtos)"
      ],
      "metadata": {
        "colab": {
          "base_uri": "https://localhost:8080/"
        },
        "id": "sFcNKPudAets",
        "outputId": "ac3f5ca2-09e3-42e8-cfe5-6828c1271c5b"
      },
      "execution_count": 11,
      "outputs": [
        {
          "output_type": "stream",
          "name": "stdout",
          "text": [
            "Os produtos ['B0', 'B3', 'B2', 'A8', 'B1'] aparecem em mais de 500 demandas ao lono do tempo\n"
          ]
        }
      ]
    },
    {
      "cell_type": "code",
      "source": [
        "# Grafico com número absolutos e a frenquência acumulada de demanda por produto\n",
        "\n",
        "ax1 = sns.set_style(style=None, rc=None)\n",
        "fig, ax1 = plt.subplots(figsize=(15,6))\n",
        "plt.title('Demanda total por produto absoluto')\n",
        "sns.barplot(x=count_produtos.index, y=count_produtos,  ci=None, ax=ax1);"
      ],
      "metadata": {
        "colab": {
          "base_uri": "https://localhost:8080/",
          "height": 383
        },
        "id": "Z37Ybx3RL5cC",
        "outputId": "462943f1-86d1-4455-8db4-885fe1968d4e"
      },
      "execution_count": 12,
      "outputs": [
        {
          "output_type": "display_data",
          "data": {
            "text/plain": [
              "<Figure size 1080x432 with 1 Axes>"
            ],
            "image/png": "[encoded data removed]"
          },
          "metadata": {
            "needs_background": "light"
          }
        }
      ]
    },
    {
      "cell_type": "markdown",
      "source": [
        "5 produtos são responsáveis por mais de 80% das demandas"
      ],
      "metadata": {
        "id": "Itbv9aphRlKe"
      }
    },
    {
      "cell_type": "code",
      "source": [
        "# Retirada de produtos com baixa demanda\n",
        "\n",
        "size_main = len(main_count_produtos)\n",
        "df = df_raw.copy()\n",
        "for i in range(len(count_produtos)-size_main):\n",
        "    df = df[~df['produto_descricao'].str.contains(count_produtos.index[-(len(count_produtos)-i-size_main)])]"
      ],
      "metadata": {
        "id": "n9nbEMX2liMA"
      },
      "execution_count": 13,
      "outputs": []
    },
    {
      "cell_type": "markdown",
      "source": [
        "Para decidir qual dos produtos com demanda alta será avaliado será usado aquele que movimentar. Para isso, será criado uma nova variavel com combinando o valor unitario com a demanda por produto."
      ],
      "metadata": {
        "id": "VSwkY88-NUY6"
      }
    },
    {
      "cell_type": "code",
      "source": [
        "# Criação da Variável 'valor_total'\n",
        "\n",
        "df['valor_total'] = df['produto_quantidade']*df['produto_valor_unitario_comercializacao']"
      ],
      "metadata": {
        "id": "Tm_13L7CcxEI"
      },
      "execution_count": 14,
      "outputs": []
    },
    {
      "cell_type": "code",
      "source": [
        "df.head()"
      ],
      "metadata": {
        "colab": {
          "base_uri": "https://localhost:8080/",
          "height": 302
        },
        "id": "hoA01yob79ax",
        "outputId": "86d91736-9142-433e-9a86-a627eefc68e8"
      },
      "execution_count": 15,
      "outputs": [
        {
          "output_type": "execute_result",
          "data": {
            "text/plain": [
              "                  produto_descricao  produto_quantidade  \\\n",
              "nota_data_emissao                                         \n",
              "2020-10-01                       B0                 120   \n",
              "2020-10-01                       B3                  24   \n",
              "2020-10-02                       A8                   1   \n",
              "2020-10-02                       B2                   6   \n",
              "2020-10-02                       B2                   3   \n",
              "\n",
              "                  produto_unidade_comercial  \\\n",
              "nota_data_emissao                             \n",
              "2020-10-01                               UN   \n",
              "2020-10-01                               UN   \n",
              "2020-10-02                               UN   \n",
              "2020-10-02                               UN   \n",
              "2020-10-02                               UN   \n",
              "\n",
              "                   produto_valor_unitario_comercializacao  valor_total  \n",
              "nota_data_emissao                                                       \n",
              "2020-10-01                                          29.50      3540.00  \n",
              "2020-10-01                                           3.19        76.56  \n",
              "2020-10-02                                           1.90         1.90  \n",
              "2020-10-02                                           2.78        16.68  \n",
              "2020-10-02                                           2.40         7.20  "
            ],
            "text/html": [
              "\n",
              "  <div id=\"df-915ed248-f022-49be-90b0-b6413050058c\">\n",
              "    <div class=\"colab-df-container\">\n",
              "      <div>\n",
              "<style scoped>\n",
              "    .dataframe tbody tr th:only-of-type {\n",
              "        vertical-align: middle;\n",
              "    }\n",
              "\n",
              "    .dataframe tbody tr th {\n",
              "        vertical-align: top;\n",
              "    }\n",
              "\n",
              "    .dataframe thead th {\n",
              "        text-align: right;\n",
              "    }\n",
              "</style>\n",
              "<table border=\"1\" class=\"dataframe\">\n",
              "  <thead>\n",
              "    <tr style=\"text-align: right;\">\n",
              "      <th></th>\n",
              "      <th>produto_descricao</th>\n",
              "      <th>produto_quantidade</th>\n",
              "      <th>produto_unidade_comercial</th>\n",
              "      <th>produto_valor_unitario_comercializacao</th>\n",
              "      <th>valor_total</th>\n",
              "    </tr>\n",
              "    <tr>\n",
              "      <th>nota_data_emissao</th>\n",
              "      <th></th>\n",
              "      <th></th>\n",
              "      <th></th>\n",
              "      <th></th>\n",
              "      <th></th>\n",
              "    </tr>\n",
              "  </thead>\n",
              "  <tbody>\n",
              "    <tr>\n",
              "      <th>2020-10-01</th>\n",
              "      <td>B0</td>\n",
              "      <td>120</td>\n",
              "      <td>UN</td>\n",
              "      <td>29.50</td>\n",
              "      <td>3540.00</td>\n",
              "    </tr>\n",
              "    <tr>\n",
              "      <th>2020-10-01</th>\n",
              "      <td>B3</td>\n",
              "      <td>24</td>\n",
              "      <td>UN</td>\n",
              "      <td>3.19</td>\n",
              "      <td>76.56</td>\n",
              "    </tr>\n",
              "    <tr>\n",
              "      <th>2020-10-02</th>\n",
              "      <td>A8</td>\n",
              "      <td>1</td>\n",
              "      <td>UN</td>\n",
              "      <td>1.90</td>\n",
              "      <td>1.90</td>\n",
              "    </tr>\n",
              "    <tr>\n",
              "      <th>2020-10-02</th>\n",
              "      <td>B2</td>\n",
              "      <td>6</td>\n",
              "      <td>UN</td>\n",
              "      <td>2.78</td>\n",
              "      <td>16.68</td>\n",
              "    </tr>\n",
              "    <tr>\n",
              "      <th>2020-10-02</th>\n",
              "      <td>B2</td>\n",
              "      <td>3</td>\n",
              "      <td>UN</td>\n",
              "      <td>2.40</td>\n",
              "      <td>7.20</td>\n",
              "    </tr>\n",
              "  </tbody>\n",
              "</table>\n",
              "</div>\n",
              "      <button class=\"colab-df-convert\" onclick=\"convertToInteractive('df-915ed248-f022-49be-90b0-b6413050058c')\"\n",
              "              title=\"Convert this dataframe to an interactive table.\"\n",
              "              style=\"display:none;\">\n",
              "        \n",
              "  <svg xmlns=\"http://www.w3.org/2000/svg\" height=\"24px\"viewBox=\"0 0 24 24\"\n",
              "       width=\"24px\">\n",
              "    <path d=\"M0 0h24v24H0V0z\" fill=\"none\"/>\n",
              "    <path d=\"M18.56 5.44l.94 2.06.94-2.06 2.06-.94-2.06-.94-.94-2.06-.94 2.06-2.06.94zm-11 1L8.5 8.5l.94-2.06 2.06-.94-2.06-.94L8.5 2.5l-.94 2.06-2.06.94zm10 10l.94 2.06.94-2.06 2.06-.94-2.06-.94-.94-2.06-.94 2.06-2.06.94z\"/><path d=\"M17.41 7.96l-1.37-1.37c-.4-.4-.92-.59-1.43-.59-.52 0-1.04.2-1.43.59L10.3 9.45l-7.72 7.72c-.78.78-.78 2.05 0 2.83L4 21.41c.39.39.9.59 1.41.59.51 0 1.02-.2 1.41-.59l7.78-7.78 2.81-2.81c.8-.78.8-2.07 0-2.86zM5.41 20L4 18.59l7.72-7.72 1.47 1.35L5.41 20z\"/>\n",
              "  </svg>\n",
              "      </button>\n",
              "      \n",
              "  <style>\n",
              "    .colab-df-container {\n",
              "      display:flex;\n",
              "      flex-wrap:wrap;\n",
              "      gap: 12px;\n",
              "    }\n",
              "\n",
              "    .colab-df-convert {\n",
              "      background-color: #E8F0FE;\n",
              "      border: none;\n",
              "      border-radius: 50%;\n",
              "      cursor: pointer;\n",
              "      display: none;\n",
              "      fill: #1967D2;\n",
              "      height: 32px;\n",
              "      padding: 0 0 0 0;\n",
              "      width: 32px;\n",
              "    }\n",
              "\n",
              "    .colab-df-convert:hover {\n",
              "      background-color: #E2EBFA;\n",
              "      box-shadow: 0px 1px 2px rgba(60, 64, 67, 0.3), 0px 1px 3px 1px rgba(60, 64, 67, 0.15);\n",
              "      fill: #174EA6;\n",
              "    }\n",
              "\n",
              "    [theme=dark] .colab-df-convert {\n",
              "      background-color: #3B4455;\n",
              "      fill: #D2E3FC;\n",
              "    }\n",
              "\n",
              "    [theme=dark] .colab-df-convert:hover {\n",
              "      background-color: #434B5C;\n",
              "      box-shadow: 0px 1px 3px 1px rgba(0, 0, 0, 0.15);\n",
              "      filter: drop-shadow(0px 1px 2px rgba(0, 0, 0, 0.3));\n",
              "      fill: #FFFFFF;\n",
              "    }\n",
              "  </style>\n",
              "\n",
              "      <script>\n",
              "        const buttonEl =\n",
              "          document.querySelector('#df-915ed248-f022-49be-90b0-b6413050058c button.colab-df-convert');\n",
              "        buttonEl.style.display =\n",
              "          google.colab.kernel.accessAllowed ? 'block' : 'none';\n",
              "\n",
              "        async function convertToInteractive(key) {\n",
              "          const element = document.querySelector('#df-915ed248-f022-49be-90b0-b6413050058c');\n",
              "          const dataTable =\n",
              "            await google.colab.kernel.invokeFunction('convertToInteractive',\n",
              "                                                     [key], {});\n",
              "          if (!dataTable) return;\n",
              "\n",
              "          const docLinkHtml = 'Like what you see? Visit the ' +\n",
              "            '<a target=\"_blank\" href=https://colab.research.google.com/notebooks/data_table.ipynb>data table notebook</a>'\n",
              "            + ' to learn more about interactive tables.';\n",
              "          element.innerHTML = '';\n",
              "          dataTable['output_type'] = 'display_data';\n",
              "          await google.colab.output.renderOutput(dataTable, element);\n",
              "          const docLink = document.createElement('div');\n",
              "          docLink.innerHTML = docLinkHtml;\n",
              "          element.appendChild(docLink);\n",
              "        }\n",
              "      </script>\n",
              "    </div>\n",
              "  </div>\n",
              "  "
            ]
          },
          "metadata": {},
          "execution_count": 15
        }
      ]
    },
    {
      "cell_type": "code",
      "source": [
        "# Retirada das variáveis que não serão mais usadas 'produto_unidade_comercial','produto_valor_unitario_comercializacao','produto_quantidade'\n",
        "\n",
        "df2 = df.loc[:, ~df.columns.isin(['produto_unidade_comercial','produto_valor_unitario_comercializacao','produto_quantidade'])]"
      ],
      "metadata": {
        "id": "TjJpQOBWP0am"
      },
      "execution_count": 16,
      "outputs": []
    },
    {
      "cell_type": "code",
      "source": [
        "# Calculo dos produtos com maior valor de venda total\n",
        "\n",
        "valor_total_prod = df2.groupby('produto_descricao').sum().sort_values(by='valor_total', ascending=False)\n",
        "valor_total_prod_perc = (valor_total_prod/valor_total_prod.sum())"
      ],
      "metadata": {
        "id": "ZPwe9EopbeWf"
      },
      "execution_count": 17,
      "outputs": []
    },
    {
      "cell_type": "code",
      "source": [
        "# Grafico com valores absolutos e a frenquência acumulada de demanda por produto\n",
        "\n",
        "ax1 = sns.set_style(style=None, rc=None)\n",
        "fig, ax1 = plt.subplots(figsize=(15,6))\n",
        "plt.title('Valor da demanda total por produto absoluto e percentual acumulado')\n",
        "sns.barplot(x=valor_total_prod.index, y=valor_total_prod['valor_total'],  ci=None, ax=ax1)\n",
        "ax2 = ax1.twinx()\n",
        "sns.lineplot(x=valor_total_prod.index, y= valor_total_prod_perc.cumsum()['valor_total'], marker='o',ax = ax2, color='b')\n",
        "ax2.set_ylim(0, 1.02)\n",
        "ax2.yaxis.grid(True)"
      ],
      "metadata": {
        "colab": {
          "base_uri": "https://localhost:8080/",
          "height": 383
        },
        "id": "pnqbAy4nffsp",
        "outputId": "c73e58a2-8d35-42e9-deec-97f122698ccd"
      },
      "execution_count": 18,
      "outputs": [
        {
          "output_type": "display_data",
          "data": {
            "text/plain": [
              "<Figure size 1080x432 with 2 Axes>"
            ],
            "image/png": "[encoded data removed]"
          },
          "metadata": {
            "needs_background": "light"
          }
        }
      ]
    },
    {
      "cell_type": "code",
      "source": [
        "print('O produto %s apresenta %i entradas e representa %0.2f da valor da movimentação dos %i produtos com mais demandas. \\nPor isso, será escolhido o produto escolhido para fazer analises e previsões.' % (valor_total_prod.index[0],  int(np.array(count_produtos)[0]) , float(np.array(valor_total_prod_perc)[0]), len(main_count_produtos)))"
      ],
      "metadata": {
        "colab": {
          "base_uri": "https://localhost:8080/"
        },
        "id": "NP8GTUg-j_FK",
        "outputId": "714a3f1e-2a8f-427b-e1d7-b9d5a7fd10d6"
      },
      "execution_count": 19,
      "outputs": [
        {
          "output_type": "stream",
          "name": "stdout",
          "text": [
            "O produto B0 apresenta 1000 entradas e representa 0.71 da valor da movimentação dos 5 produtos com mais demandas. \n",
            "Por isso, será escolhido o produto escolhido para fazer analises e previsões.\n"
          ]
        }
      ]
    },
    {
      "cell_type": "markdown",
      "source": [
        "## 2 PREPARAÇÃO DOS DADOS"
      ],
      "metadata": {
        "id": "oUmZ5GiaBcCo"
      }
    },
    {
      "cell_type": "markdown",
      "source": [
        "### 2.1 SEPARAÇÃO DA SERIE"
      ],
      "metadata": {
        "id": "7d85Y1bTydN2"
      }
    },
    {
      "cell_type": "markdown",
      "source": [
        "Para o estudo de previsão da demanda será excluido as variaveis 'produto_unidade_comercial' e 'produto_valor_unitario_comercializacao'"
      ],
      "metadata": {
        "id": "cYyhHz72XWTW"
      }
    },
    {
      "cell_type": "code",
      "source": [
        "# excluir variaveis \n",
        "\n",
        "df = df.loc[:, ~df.columns.isin(['produto_unidade_comercial','produto_valor_unitario_comercializacao','valor_total'])]"
      ],
      "metadata": {
        "id": "yi-BGRg_y8SI"
      },
      "execution_count": 20,
      "outputs": []
    },
    {
      "cell_type": "code",
      "source": [
        "df.head()"
      ],
      "metadata": {
        "colab": {
          "base_uri": "https://localhost:8080/",
          "height": 238
        },
        "id": "FWFdKOuzy_Oq",
        "outputId": "08922fc5-c5f4-418a-ab78-8e32e6e5b5f6"
      },
      "execution_count": 21,
      "outputs": [
        {
          "output_type": "execute_result",
          "data": {
            "text/plain": [
              "                  produto_descricao  produto_quantidade\n",
              "nota_data_emissao                                      \n",
              "2020-10-01                       B0                 120\n",
              "2020-10-01                       B3                  24\n",
              "2020-10-02                       A8                   1\n",
              "2020-10-02                       B2                   6\n",
              "2020-10-02                       B2                   3"
            ],
            "text/html": [
              "\n",
              "  <div id=\"df-7e95f187-3730-456b-a5ec-f12572cfeeca\">\n",
              "    <div class=\"colab-df-container\">\n",
              "      <div>\n",
              "<style scoped>\n",
              "    .dataframe tbody tr th:only-of-type {\n",
              "        vertical-align: middle;\n",
              "    }\n",
              "\n",
              "    .dataframe tbody tr th {\n",
              "        vertical-align: top;\n",
              "    }\n",
              "\n",
              "    .dataframe thead th {\n",
              "        text-align: right;\n",
              "    }\n",
              "</style>\n",
              "<table border=\"1\" class=\"dataframe\">\n",
              "  <thead>\n",
              "    <tr style=\"text-align: right;\">\n",
              "      <th></th>\n",
              "      <th>produto_descricao</th>\n",
              "      <th>produto_quantidade</th>\n",
              "    </tr>\n",
              "    <tr>\n",
              "      <th>nota_data_emissao</th>\n",
              "      <th></th>\n",
              "      <th></th>\n",
              "    </tr>\n",
              "  </thead>\n",
              "  <tbody>\n",
              "    <tr>\n",
              "      <th>2020-10-01</th>\n",
              "      <td>B0</td>\n",
              "      <td>120</td>\n",
              "    </tr>\n",
              "    <tr>\n",
              "      <th>2020-10-01</th>\n",
              "      <td>B3</td>\n",
              "      <td>24</td>\n",
              "    </tr>\n",
              "    <tr>\n",
              "      <th>2020-10-02</th>\n",
              "      <td>A8</td>\n",
              "      <td>1</td>\n",
              "    </tr>\n",
              "    <tr>\n",
              "      <th>2020-10-02</th>\n",
              "      <td>B2</td>\n",
              "      <td>6</td>\n",
              "    </tr>\n",
              "    <tr>\n",
              "      <th>2020-10-02</th>\n",
              "      <td>B2</td>\n",
              "      <td>3</td>\n",
              "    </tr>\n",
              "  </tbody>\n",
              "</table>\n",
              "</div>\n",
              "      <button class=\"colab-df-convert\" onclick=\"convertToInteractive('df-7e95f187-3730-456b-a5ec-f12572cfeeca')\"\n",
              "              title=\"Convert this dataframe to an interactive table.\"\n",
              "              style=\"display:none;\">\n",
              "        \n",
              "  <svg xmlns=\"http://www.w3.org/2000/svg\" height=\"24px\"viewBox=\"0 0 24 24\"\n",
              "       width=\"24px\">\n",
              "    <path d=\"M0 0h24v24H0V0z\" fill=\"none\"/>\n",
              "    <path d=\"M18.56 5.44l.94 2.06.94-2.06 2.06-.94-2.06-.94-.94-2.06-.94 2.06-2.06.94zm-11 1L8.5 8.5l.94-2.06 2.06-.94-2.06-.94L8.5 2.5l-.94 2.06-2.06.94zm10 10l.94 2.06.94-2.06 2.06-.94-2.06-.94-.94-2.06-.94 2.06-2.06.94z\"/><path d=\"M17.41 7.96l-1.37-1.37c-.4-.4-.92-.59-1.43-.59-.52 0-1.04.2-1.43.59L10.3 9.45l-7.72 7.72c-.78.78-.78 2.05 0 2.83L4 21.41c.39.39.9.59 1.41.59.51 0 1.02-.2 1.41-.59l7.78-7.78 2.81-2.81c.8-.78.8-2.07 0-2.86zM5.41 20L4 18.59l7.72-7.72 1.47 1.35L5.41 20z\"/>\n",
              "  </svg>\n",
              "      </button>\n",
              "      \n",
              "  <style>\n",
              "    .colab-df-container {\n",
              "      display:flex;\n",
              "      flex-wrap:wrap;\n",
              "      gap: 12px;\n",
              "    }\n",
              "\n",
              "    .colab-df-convert {\n",
              "      background-color: #E8F0FE;\n",
              "      border: none;\n",
              "      border-radius: 50%;\n",
              "      cursor: pointer;\n",
              "      display: none;\n",
              "      fill: #1967D2;\n",
              "      height: 32px;\n",
              "      padding: 0 0 0 0;\n",
              "      width: 32px;\n",
              "    }\n",
              "\n",
              "    .colab-df-convert:hover {\n",
              "      background-color: #E2EBFA;\n",
              "      box-shadow: 0px 1px 2px rgba(60, 64, 67, 0.3), 0px 1px 3px 1px rgba(60, 64, 67, 0.15);\n",
              "      fill: #174EA6;\n",
              "    }\n",
              "\n",
              "    [theme=dark] .colab-df-convert {\n",
              "      background-color: #3B4455;\n",
              "      fill: #D2E3FC;\n",
              "    }\n",
              "\n",
              "    [theme=dark] .colab-df-convert:hover {\n",
              "      background-color: #434B5C;\n",
              "      box-shadow: 0px 1px 3px 1px rgba(0, 0, 0, 0.15);\n",
              "      filter: drop-shadow(0px 1px 2px rgba(0, 0, 0, 0.3));\n",
              "      fill: #FFFFFF;\n",
              "    }\n",
              "  </style>\n",
              "\n",
              "      <script>\n",
              "        const buttonEl =\n",
              "          document.querySelector('#df-7e95f187-3730-456b-a5ec-f12572cfeeca button.colab-df-convert');\n",
              "        buttonEl.style.display =\n",
              "          google.colab.kernel.accessAllowed ? 'block' : 'none';\n",
              "\n",
              "        async function convertToInteractive(key) {\n",
              "          const element = document.querySelector('#df-7e95f187-3730-456b-a5ec-f12572cfeeca');\n",
              "          const dataTable =\n",
              "            await google.colab.kernel.invokeFunction('convertToInteractive',\n",
              "                                                     [key], {});\n",
              "          if (!dataTable) return;\n",
              "\n",
              "          const docLinkHtml = 'Like what you see? Visit the ' +\n",
              "            '<a target=\"_blank\" href=https://colab.research.google.com/notebooks/data_table.ipynb>data table notebook</a>'\n",
              "            + ' to learn more about interactive tables.';\n",
              "          element.innerHTML = '';\n",
              "          dataTable['output_type'] = 'display_data';\n",
              "          await google.colab.output.renderOutput(dataTable, element);\n",
              "          const docLink = document.createElement('div');\n",
              "          docLink.innerHTML = docLinkHtml;\n",
              "          element.appendChild(docLink);\n",
              "        }\n",
              "      </script>\n",
              "    </div>\n",
              "  </div>\n",
              "  "
            ]
          },
          "metadata": {},
          "execution_count": 21
        }
      ]
    },
    {
      "cell_type": "markdown",
      "source": [
        "isolar serie temporal do Produto B0 "
      ],
      "metadata": {
        "id": "qeCzCKdtyOb2"
      }
    },
    {
      "cell_type": "code",
      "source": [
        "# Criando dataframe do produto B0\n",
        "df_b0 = df[df['produto_descricao'].str.contains(count_produtos[:].index[0]) == True]\n",
        "df_b0 = df_b0.loc[:,~df_b0.columns.isin(['produto_descricao'])]\n",
        "\n",
        "# Reamostrar em termos de mês, semana e dia\n",
        "df_b0_m = df_b0.resample('M').sum() # serie agregada mensalmente\n",
        "df_b0_w = df_b0.resample('W').sum() # serie agregada semanalemente\n",
        "df_b0_d = df_b0.resample('D').sum() # serie agregada diariamente"
      ],
      "metadata": {
        "id": "TugHB2dXjzvk"
      },
      "execution_count": 22,
      "outputs": []
    },
    {
      "cell_type": "code",
      "source": [
        "# plot da serie agregadas mensal, semanal e diária'\n",
        "\n",
        "plt.figure(figsize=(12, 5))\n",
        "plt.title('Series agregadas mensal, semanal e diária')\n",
        "plt.plot(df_b0_m,label='Mensal')\n",
        "plt.plot(df_b0_w,label='Semanaç')\n",
        "plt.plot(df_b0_d,label='Diário')\n",
        "plt.legend()\n",
        "plt.show()"
      ],
      "metadata": {
        "colab": {
          "base_uri": "https://localhost:8080/",
          "height": 336
        },
        "id": "Y9MbK4YwQPSJ",
        "outputId": "5c191324-e6fe-482f-e557-beefebdaff9c"
      },
      "execution_count": 23,
      "outputs": [
        {
          "output_type": "display_data",
          "data": {
            "text/plain": [
              "<Figure size 864x360 with 1 Axes>"
            ],
            "image/png": "[encoded data removed]"
          },
          "metadata": {
            "needs_background": "light"
          }
        }
      ]
    },
    {
      "cell_type": "markdown",
      "source": [
        "Por ter mais amostras e para diminuir efeitos da sazionalidade foi escolhida a serie diária para previsão"
      ],
      "metadata": {
        "id": "J1r6haCIEZtT"
      }
    },
    {
      "cell_type": "markdown",
      "source": [
        "### 2.3 DIVISÃO TREINAMENTO E TESTE"
      ],
      "metadata": {
        "id": "xPBkCbs8yWgW"
      }
    },
    {
      "cell_type": "code",
      "source": [
        "# divisão treino e teste (previsão para 4)\n",
        "\n",
        "df_b0_d = np.array(df_b0_d)\n",
        "\n",
        "pred_size = 4\n",
        "train_size = len(df_b0_d) - pred_size\n",
        "train = df_b0_d[0:train_size,:]\n",
        "test = df_b0_d[-pred_size:]\n",
        "print('train_size : %i, test_size: %i'%(len(train),len(test)))"
      ],
      "metadata": {
        "colab": {
          "base_uri": "https://localhost:8080/"
        },
        "id": "Wwh_5Wm3YrD6",
        "outputId": "7c6493f1-b5eb-4666-a8f6-53c5eceae1f8"
      },
      "execution_count": 24,
      "outputs": [
        {
          "output_type": "stream",
          "name": "stdout",
          "text": [
            "train_size : 361, test_size: 4\n"
          ]
        }
      ]
    },
    {
      "cell_type": "markdown",
      "source": [
        "## 3 MODELAGEM"
      ],
      "metadata": {
        "id": "SmLT_D9hBfBd"
      }
    },
    {
      "cell_type": "code",
      "source": [
        "plot_acf(train);"
      ],
      "metadata": {
        "colab": {
          "base_uri": "https://localhost:8080/",
          "height": 281
        },
        "id": "HcR-jMSAt_KX",
        "outputId": "0ba2fe13-603c-4f11-a99d-7cee0cc5cdad"
      },
      "execution_count": 25,
      "outputs": [
        {
          "output_type": "display_data",
          "data": {
            "text/plain": [
              "<Figure size 432x288 with 1 Axes>"
            ],
            "image/png": "[encoded data removed]"
          },
          "metadata": {
            "needs_background": "light"
          }
        }
      ]
    },
    {
      "cell_type": "markdown",
      "source": [
        "Apenas duas componentes tem valor com alguma significância (MA:2)"
      ],
      "metadata": {
        "id": "Bhl5SMApb6YI"
      }
    },
    {
      "cell_type": "code",
      "source": [
        "plot_pacf(train);"
      ],
      "metadata": {
        "colab": {
          "base_uri": "https://localhost:8080/",
          "height": 281
        },
        "id": "xHXfCfhIuV6_",
        "outputId": "6df61907-558c-4516-a3da-e51ba7955146"
      },
      "execution_count": 26,
      "outputs": [
        {
          "output_type": "display_data",
          "data": {
            "text/plain": [
              "<Figure size 432x288 with 1 Axes>"
            ],
            "image/png": "[encoded data removed]"
          },
          "metadata": {
            "needs_background": "light"
          }
        }
      ]
    },
    {
      "cell_type": "markdown",
      "source": [
        "Assim como no anterior, apenas duas componentes se mostram alguma relevancia (AR:2)"
      ],
      "metadata": {
        "id": "q0goW-bFcITb"
      }
    },
    {
      "cell_type": "code",
      "source": [
        "# Treinamento do modelo\n",
        "\n",
        "arima = ARIMA(train, order=(2, 0, 2))\n",
        "arima_fit = arima.fit()"
      ],
      "metadata": {
        "id": "ZLQiNNE1xfts"
      },
      "execution_count": null,
      "outputs": []
    },
    {
      "cell_type": "markdown",
      "source": [
        "## 4 RESULTADOS"
      ],
      "metadata": {
        "id": "myARB2qMe7nP"
      }
    },
    {
      "cell_type": "code",
      "source": [
        "#  Previsão da série\n",
        "\n",
        "predicted = arima_fit.predict(len(train), len(train)+pred_size-1)"
      ],
      "metadata": {
        "id": "0ArzlKvLe7EN"
      },
      "execution_count": 28,
      "outputs": []
    },
    {
      "cell_type": "code",
      "source": [
        "# plot teste e previsão\n",
        "\n",
        "plt.figure(figsize=(12, 5))\n",
        "plt.title('conjunto teste e previsão')\n",
        "plt.plot(test,label='Teste')\n",
        "plt.plot(predicted, label='Previsão')\n",
        "plt.legend()\n",
        "plt.show()"
      ],
      "metadata": {
        "colab": {
          "base_uri": "https://localhost:8080/",
          "height": 336
        },
        "id": "tocTa_2Vp8_t",
        "outputId": "9423277f-dd40-4c3d-e07f-a1459f2c7888"
      },
      "execution_count": 29,
      "outputs": [
        {
          "output_type": "display_data",
          "data": {
            "text/plain": [
              "<Figure size 864x360 with 1 Axes>"
            ],
            "image/png": "[encoded data removed]"
          },
          "metadata": {
            "needs_background": "light"
          }
        }
      ]
    },
    {
      "cell_type": "code",
      "source": [
        "print('Para o Conjunto de Teste temos MAPE: %.2f e RMSE: %0.2f' %(mean_absolute_percentage_error(test, predicted), mean_squared_error(test, predicted, squared=False)))\n"
      ],
      "metadata": {
        "colab": {
          "base_uri": "https://localhost:8080/"
        },
        "id": "DnhqfBFbfFoY",
        "outputId": "4204c2c2-32a5-48eb-e3f6-95bd03a70b9b"
      },
      "execution_count": 30,
      "outputs": [
        {
          "output_type": "stream",
          "name": "stdout",
          "text": [
            "Para o Conjunto de Teste temos MAPE: 3.05 e RMSE: 1204.12\n"
          ]
        }
      ]
    },
    {
      "cell_type": "code",
      "source": [
        "# plot treinamneto, teste, previsão\n",
        "\n",
        "df_train = pd.DataFrame(train)\n",
        "df_test = pd.DataFrame(test, index=range(len(train),len(train)+pred_size))\n",
        "df_pred = pd.DataFrame(predicted, index=range(len(train),len(train)+pred_size))\n",
        "\n",
        "\n",
        "plt.figure(figsize=(12, 5))\n",
        "plt.title('Conjunto Treinamento, Teste e Previsão')\n",
        "plt.plot(df_train[-100:], label='Treinamento')\n",
        "plt.plot(df_test,label='Teste')\n",
        "plt.plot(df_pred, label='Previsão')\n",
        "plt.legend()\n",
        "plt.show()"
      ],
      "metadata": {
        "colab": {
          "base_uri": "https://localhost:8080/",
          "height": 336
        },
        "id": "m4GeB3D-zIJ4",
        "outputId": "93dd001d-02f5-4b22-c1a7-e44b955d06e3"
      },
      "execution_count": 31,
      "outputs": [
        {
          "output_type": "display_data",
          "data": {
            "text/plain": [
              "<Figure size 864x360 with 1 Axes>"
            ],
            "image/png": "[encoded data removed]"
          },
          "metadata": {
            "needs_background": "light"
          }
        }
      ]
    },
    {
      "cell_type": "markdown",
      "source": [
        "O resultados indicam que o modelo não foi capaz de aprender os padrões do conjunto com tanta precisão. É interessante reavaliar escolhas do conjuto de dados e também buscar outros modelos que possam se adaptar a natureza do dados."
      ],
      "metadata": {
        "id": "gVTImcmliwME"
      }
    }
  ]
}